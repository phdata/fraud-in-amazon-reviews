{
 "cells": [
  {
   "cell_type": "markdown",
   "metadata": {
    "collapsed": true
   },
   "source": [
    "## \"Detection of anomalous reviews from Amazon using supervised outlier techniques\""
   ]
  },
  {
   "cell_type": "markdown",
   "metadata": {},
   "source": [
    "Do you buy anything without reading other customers' reviews? Probably not and I surely wouldn't! Especially when you consider the inconvenience to return products and the potential of it getting lost in shipping. It's no surprise that review fraud has diminished the whole experience. You only need some bad reviews to evade the customers to look for other products. Amazon makes it easy to view other similar products, so why would a customer buy the product with a bad review? This can be very damaging for a business. This has been seen as a developing problem. In this notebook we try to address this important problem utilizing natural language processing (NLP) and various machine learning methodologies and techniques to achieve a breakthrough in this sector. Many e-commerce sites, such as Amazon, have their systems in place, including Verified Purchase, which labels review language as accurate when items are purchased directly from the website. This notebook proposes to use Amazon's verified purchases label to train a supervised classification model. We use Amazon’s labeled dataset for training two models. The trained baseline model had an AUC score of 84% and the proposed model had a AUC score of 99%. Both models indicate that there are distinctions between false and actual reviews. Out of the two, the feature engineering improved the model performance by 29%.\n",
    "\n",
    "\n",
    "The dataset is from kaggle and can be found [here:](https://www.kaggle.com/akudnaver/amazon-reviews-dataset)."
   ]
  },
  {
   "cell_type": "code",
   "execution_count": 1,
   "metadata": {},
   "outputs": [],
   "source": [
    "# Importing the Dependencies and Loading the Data\n",
    "\n",
    "import sys  \n",
    "sys.path.append('../src/visualization')\n",
    "sys.path.append('../src/processing')"
   ]
  },
  {
   "cell_type": "code",
   "execution_count": 2,
   "metadata": {},
   "outputs": [
    {
     "data": {
      "text/plain": [
       "['/home/charlie/Documents/DATA_SCIENCE_HOME/NLP_HOME/anomaliesinamazonreviews/notebooks',\n",
       " '/home/charlie/anaconda3/envs/fraud/lib/python38.zip',\n",
       " '/home/charlie/anaconda3/envs/fraud/lib/python3.8',\n",
       " '/home/charlie/anaconda3/envs/fraud/lib/python3.8/lib-dynload',\n",
       " '',\n",
       " '/home/charlie/.local/lib/python3.8/site-packages',\n",
       " '/home/charlie/anaconda3/envs/fraud/lib/python3.8/site-packages',\n",
       " '../src/visualization',\n",
       " '../src/processing']"
      ]
     },
     "execution_count": 2,
     "metadata": {},
     "output_type": "execute_result"
    }
   ],
   "source": [
    "sys.path"
   ]
  },
  {
   "cell_type": "code",
   "execution_count": 3,
   "metadata": {},
   "outputs": [],
   "source": [
    "%matplotlib inline\n",
    "\n",
    "import re\n",
    "import string\n",
    "\n",
    "import joblib\n",
    "import pandas as pd\n",
    "import numpy as np\n",
    "\n",
    "import seaborn as sns\n",
    "\n",
    "#SciKit-Learn\n",
    "from datetime import datetime\n",
    "from sklearn.model_selection import train_test_split\n",
    "from sklearn.metrics import accuracy_score\n",
    "from sklearn.metrics import confusion_matrix, ConfusionMatrixDisplay\n",
    "from sklearn.preprocessing import LabelEncoder\n",
    "from sklearn.metrics import roc_auc_score\n",
    "\n",
    "import nltk\n",
    "from nltk.corpus import stopwords\n",
    "# nltk.download('stopwords')\n",
    "from nltk.tokenize import word_tokenize\n",
    "from nltk.stem import WordNetLemmatizer\n",
    "\n",
    "#Tensorflow / Keras\n",
    "import tensorflow as tf\n",
    "    \n",
    "from tensorflow.keras.preprocessing.text import Tokenizer\n",
    "from tensorflow.keras.preprocessing.sequence import pad_sequences\n",
    "\n",
    "#Plotting\n",
    "import matplotlib.pyplot as plt\n",
    "from association import associations_fun\n",
    "from TextFeatureEngineering import *\n",
    "from DataCleansing import *\n",
    "\n",
    "#Test\n",
    "from collections import Counter\n",
    "from nltk.stem.porter import PorterStemmer\n",
    "\n",
    "\n",
    "import gensim\n",
    "import gensim.corpora as corpora\n",
    "from gensim.models import CoherenceModel\n",
    "\n",
    "from textblob import TextBlob\n",
    "from wordcloud import WordCloud\n",
    "from sklearn.ensemble import RandomForestClassifier\n",
    "\n",
    "import warnings\n",
    "warnings.simplefilter(\"ignore\")"
   ]
  },
  {
   "cell_type": "code",
   "execution_count": 4,
   "metadata": {},
   "outputs": [],
   "source": [
    "# Loading the dataset\n",
    "df = pd.read_csv('../data/external/amazon_reviews_2019.csv',encoding=\"latin1\") #due to special charas should be encoded as latin 1"
   ]
  },
  {
   "cell_type": "code",
   "execution_count": 5,
   "metadata": {},
   "outputs": [
    {
     "name": "stdout",
     "output_type": "stream",
     "text": [
      "Total Reviews:  2501\n",
      "Total Attributes:  32\n"
     ]
    }
   ],
   "source": [
    "n_reviews, n_attributes = df.shape\n",
    "print('Total Reviews: ',n_reviews)\n",
    "print('Total Attributes: ',n_attributes)"
   ]
  },
  {
   "cell_type": "markdown",
   "metadata": {},
   "source": [
    "# Exploratory Data Analysis"
   ]
  },
  {
   "cell_type": "markdown",
   "metadata": {},
   "source": [
    "## Handling Missing Data\n",
    "\n",
    "Missing data can skew anything for data scientists. After all, any analysis is only as good as the data. A data scientist doesn’t want to produce biased estimates that lead to invalid results. When dealing with missing data, data scientists must understand why the data is missing. Some consideration:\n",
    "\n",
    "* Data Missing at Random? (MAR)\n",
    "* Missing Completely at Random? (MCAR)\n",
    "* Missing Not at Random? (NMAR)\n",
    "\n",
    "There are many approaches for dealing with missing data:\n",
    "\n",
    "* Deleting data\n",
    "*  Imputation\n",
    "\n",
    "When data is missing, it may make sense to delete data, as mentioned above. However, that may not be the most effective option. For example, if too much information is discarded, it may not be possible to complete a reliable analysis.\n",
    "\n",
    "Instead of deletion, data scientists have multiple solutions to impute the value of missing data. Depending why the data are missing, imputation methods can deliver reasonably reliable results.\n",
    "\n",
    "For simplicity, we opted to delete all the features that contain missing values.\n",
    "\n",
    "The code below shows all the features with missing values in percentage."
   ]
  },
  {
   "cell_type": "code",
   "execution_count": 6,
   "metadata": {},
   "outputs": [
    {
     "name": "stdout",
     "output_type": "stream",
     "text": [
      "report_date                 0.00\n",
      "online_store                0.00\n",
      "upc                         0.00\n",
      "retailer_product_code       0.00\n",
      "brand                       0.00\n",
      "category                    0.00\n",
      "sub_category                0.00\n",
      "product_description         0.00\n",
      "review_date                 0.00\n",
      "review_rating               0.00\n",
      "review_title                3.92\n",
      "review_text                 0.00\n",
      "is_competitor               0.00\n",
      "manufacturer                0.00\n",
      "market                      0.00\n",
      "matched_keywords          100.00\n",
      "time_of_publication       100.00\n",
      "url                        33.87\n",
      "review_type                 0.00\n",
      "parent_review               0.00\n",
      "manufacturers_response    100.00\n",
      "dimension1                  0.00\n",
      "dimension2                  0.00\n",
      "dimension3                  7.64\n",
      "dimension4                100.00\n",
      "dimension5                100.00\n",
      "dimension6                100.00\n",
      "dimension7                  0.08\n",
      "dimension8                  0.00\n",
      "verified_purchase           0.00\n",
      "helpful_review_count        0.00\n",
      "review_hash_id              0.00\n",
      "dtype: float64%\n"
     ]
    }
   ],
   "source": [
    "missing_values = df.isna().mean().round(4) * 100\n",
    "\n",
    "print('%s%%' % missing_values)"
   ]
  },
  {
   "cell_type": "code",
   "execution_count": 7,
   "metadata": {},
   "outputs": [],
   "source": [
    "df.drop(['matched_keywords', 'time_of_publication', 'url', \n",
    "         'manufacturers_response', 'dimension3', 'dimension4', \n",
    "         'dimension5', 'dimension6', 'dimension7'], inplace=True, axis=1)"
   ]
  },
  {
   "cell_type": "code",
   "execution_count": 8,
   "metadata": {},
   "outputs": [
    {
     "data": {
      "text/html": [
       "<div>\n",
       "<style scoped>\n",
       "    .dataframe tbody tr th:only-of-type {\n",
       "        vertical-align: middle;\n",
       "    }\n",
       "\n",
       "    .dataframe tbody tr th {\n",
       "        vertical-align: top;\n",
       "    }\n",
       "\n",
       "    .dataframe thead th {\n",
       "        text-align: right;\n",
       "    }\n",
       "</style>\n",
       "<table border=\"1\" class=\"dataframe\">\n",
       "  <thead>\n",
       "    <tr style=\"text-align: right;\">\n",
       "      <th></th>\n",
       "      <th>report_date</th>\n",
       "      <th>online_store</th>\n",
       "      <th>upc</th>\n",
       "      <th>retailer_product_code</th>\n",
       "      <th>brand</th>\n",
       "      <th>category</th>\n",
       "      <th>sub_category</th>\n",
       "      <th>product_description</th>\n",
       "      <th>review_date</th>\n",
       "      <th>review_rating</th>\n",
       "      <th>...</th>\n",
       "      <th>manufacturer</th>\n",
       "      <th>market</th>\n",
       "      <th>review_type</th>\n",
       "      <th>parent_review</th>\n",
       "      <th>dimension1</th>\n",
       "      <th>dimension2</th>\n",
       "      <th>dimension8</th>\n",
       "      <th>verified_purchase</th>\n",
       "      <th>helpful_review_count</th>\n",
       "      <th>review_hash_id</th>\n",
       "    </tr>\n",
       "  </thead>\n",
       "  <tbody>\n",
       "    <tr>\n",
       "      <th>0</th>\n",
       "      <td>1/2/2019</td>\n",
       "      <td>FRESHAMAZON</td>\n",
       "      <td>8.718110e+12</td>\n",
       "      <td>B0142CI6FC</td>\n",
       "      <td>Dove Men+Care</td>\n",
       "      <td>Personal Care</td>\n",
       "      <td>Deos</td>\n",
       "      <td>Dove Men+Care Extra Fresh Anti-perspirant Deod...</td>\n",
       "      <td>1/1/2019</td>\n",
       "      <td>5</td>\n",
       "      <td>...</td>\n",
       "      <td>Unilever Global</td>\n",
       "      <td>UK</td>\n",
       "      <td>Organic</td>\n",
       "      <td>Child</td>\n",
       "      <td>Deos</td>\n",
       "      <td>Male Anti-Perspirant Deodorant</td>\n",
       "      <td>Core of the Core</td>\n",
       "      <td>True</td>\n",
       "      <td>0</td>\n",
       "      <td>3f129b02-ea76-0323-bd59-235d97a4f83f</td>\n",
       "    </tr>\n",
       "    <tr>\n",
       "      <th>1</th>\n",
       "      <td>1/3/2019</td>\n",
       "      <td>FRESHAMAZON</td>\n",
       "      <td>5.000180e+12</td>\n",
       "      <td>B014DFNNRY</td>\n",
       "      <td>Marmite</td>\n",
       "      <td>Foods</td>\n",
       "      <td>Savoury</td>\n",
       "      <td>Marmite  Spread Yeast Extract 500g</td>\n",
       "      <td>1/2/2019</td>\n",
       "      <td>5</td>\n",
       "      <td>...</td>\n",
       "      <td>Unilever Global</td>\n",
       "      <td>UK</td>\n",
       "      <td>Organic</td>\n",
       "      <td>Child</td>\n",
       "      <td>Savoury</td>\n",
       "      <td>COTC Yeast Extract</td>\n",
       "      <td>Core of the Core</td>\n",
       "      <td>True</td>\n",
       "      <td>0</td>\n",
       "      <td>d7f3b9aa-e8b3-626d-683b-374e201c8315</td>\n",
       "    </tr>\n",
       "    <tr>\n",
       "      <th>2</th>\n",
       "      <td>1/3/2019</td>\n",
       "      <td>FRESHAMAZON</td>\n",
       "      <td>5.000180e+12</td>\n",
       "      <td>B014DFNNRY</td>\n",
       "      <td>Marmite</td>\n",
       "      <td>Foods</td>\n",
       "      <td>Savoury</td>\n",
       "      <td>Marmite  Spread Yeast Extract 500g</td>\n",
       "      <td>1/2/2019</td>\n",
       "      <td>4</td>\n",
       "      <td>...</td>\n",
       "      <td>Unilever Global</td>\n",
       "      <td>UK</td>\n",
       "      <td>Organic</td>\n",
       "      <td>Child</td>\n",
       "      <td>Savoury</td>\n",
       "      <td>COTC Yeast Extract</td>\n",
       "      <td>Core of the Core</td>\n",
       "      <td>True</td>\n",
       "      <td>0</td>\n",
       "      <td>e58a523d-0155-a366-f107-7ac6817ac3b7</td>\n",
       "    </tr>\n",
       "    <tr>\n",
       "      <th>3</th>\n",
       "      <td>1/3/2019</td>\n",
       "      <td>FRESHAMAZON</td>\n",
       "      <td>8.712570e+12</td>\n",
       "      <td>B014DFKELC</td>\n",
       "      <td>Knorr</td>\n",
       "      <td>Foods</td>\n",
       "      <td>Savoury</td>\n",
       "      <td>Knorr  Beef Stock Pot 8 x 28g</td>\n",
       "      <td>1/2/2019</td>\n",
       "      <td>5</td>\n",
       "      <td>...</td>\n",
       "      <td>Unilever Global</td>\n",
       "      <td>UK</td>\n",
       "      <td>Organic</td>\n",
       "      <td>Parent</td>\n",
       "      <td>Savoury</td>\n",
       "      <td>Beef Stock/Pots/Cubes/Extract/Liquid/Concentrated</td>\n",
       "      <td>Core of the Core</td>\n",
       "      <td>True</td>\n",
       "      <td>0</td>\n",
       "      <td>aaa9bb87-4f99-bb89-65cb-3b400ebb45c0</td>\n",
       "    </tr>\n",
       "    <tr>\n",
       "      <th>4</th>\n",
       "      <td>1/3/2019</td>\n",
       "      <td>FRESHAMAZON</td>\n",
       "      <td>8.717160e+12</td>\n",
       "      <td>B014G37I7E</td>\n",
       "      <td>Cif</td>\n",
       "      <td>Homecare</td>\n",
       "      <td>HHC</td>\n",
       "      <td>Cif Citrus Bathroom Mousse 500ml</td>\n",
       "      <td>1/2/2019</td>\n",
       "      <td>5</td>\n",
       "      <td>...</td>\n",
       "      <td>Unilever Global</td>\n",
       "      <td>UK</td>\n",
       "      <td>Organic</td>\n",
       "      <td>Parent</td>\n",
       "      <td>HHC</td>\n",
       "      <td>Bathroom Mousse</td>\n",
       "      <td>Core of the Core</td>\n",
       "      <td>False</td>\n",
       "      <td>0</td>\n",
       "      <td>48c71b34-d7fe-5e90-51dd-239e153fb0ae</td>\n",
       "    </tr>\n",
       "  </tbody>\n",
       "</table>\n",
       "<p>5 rows × 23 columns</p>\n",
       "</div>"
      ],
      "text/plain": [
       "  report_date online_store           upc retailer_product_code          brand  \\\n",
       "0    1/2/2019  FRESHAMAZON  8.718110e+12            B0142CI6FC  Dove Men+Care   \n",
       "1    1/3/2019  FRESHAMAZON  5.000180e+12            B014DFNNRY        Marmite   \n",
       "2    1/3/2019  FRESHAMAZON  5.000180e+12            B014DFNNRY        Marmite   \n",
       "3    1/3/2019  FRESHAMAZON  8.712570e+12            B014DFKELC          Knorr   \n",
       "4    1/3/2019  FRESHAMAZON  8.717160e+12            B014G37I7E            Cif   \n",
       "\n",
       "        category sub_category  \\\n",
       "0  Personal Care         Deos   \n",
       "1          Foods      Savoury   \n",
       "2          Foods      Savoury   \n",
       "3          Foods      Savoury   \n",
       "4       Homecare          HHC   \n",
       "\n",
       "                                 product_description review_date  \\\n",
       "0  Dove Men+Care Extra Fresh Anti-perspirant Deod...    1/1/2019   \n",
       "1                 Marmite  Spread Yeast Extract 500g    1/2/2019   \n",
       "2                 Marmite  Spread Yeast Extract 500g    1/2/2019   \n",
       "3                      Knorr  Beef Stock Pot 8 x 28g    1/2/2019   \n",
       "4                   Cif Citrus Bathroom Mousse 500ml    1/2/2019   \n",
       "\n",
       "   review_rating  ...     manufacturer market  review_type parent_review  \\\n",
       "0              5  ...  Unilever Global     UK      Organic         Child   \n",
       "1              5  ...  Unilever Global     UK      Organic         Child   \n",
       "2              4  ...  Unilever Global     UK      Organic         Child   \n",
       "3              5  ...  Unilever Global     UK      Organic        Parent   \n",
       "4              5  ...  Unilever Global     UK      Organic        Parent   \n",
       "\n",
       "  dimension1                                         dimension2  \\\n",
       "0       Deos                     Male Anti-Perspirant Deodorant   \n",
       "1    Savoury                                 COTC Yeast Extract   \n",
       "2    Savoury                                 COTC Yeast Extract   \n",
       "3    Savoury  Beef Stock/Pots/Cubes/Extract/Liquid/Concentrated   \n",
       "4        HHC                                    Bathroom Mousse   \n",
       "\n",
       "         dimension8 verified_purchase helpful_review_count  \\\n",
       "0  Core of the Core              True                    0   \n",
       "1  Core of the Core              True                    0   \n",
       "2  Core of the Core              True                    0   \n",
       "3  Core of the Core              True                    0   \n",
       "4  Core of the Core             False                    0   \n",
       "\n",
       "                         review_hash_id  \n",
       "0  3f129b02-ea76-0323-bd59-235d97a4f83f  \n",
       "1  d7f3b9aa-e8b3-626d-683b-374e201c8315  \n",
       "2  e58a523d-0155-a366-f107-7ac6817ac3b7  \n",
       "3  aaa9bb87-4f99-bb89-65cb-3b400ebb45c0  \n",
       "4  48c71b34-d7fe-5e90-51dd-239e153fb0ae  \n",
       "\n",
       "[5 rows x 23 columns]"
      ]
     },
     "execution_count": 8,
     "metadata": {},
     "output_type": "execute_result"
    }
   ],
   "source": [
    "df.head()"
   ]
  },
  {
   "cell_type": "markdown",
   "metadata": {},
   "source": [
    "The 'review_title' feature has 3.92% missing values. We will attempt to fill the missing values."
   ]
  },
  {
   "cell_type": "code",
   "execution_count": 9,
   "metadata": {},
   "outputs": [],
   "source": [
    "df['review_title'].fillna('', inplace=True)"
   ]
  },
  {
   "cell_type": "code",
   "execution_count": 10,
   "metadata": {},
   "outputs": [
    {
     "name": "stdout",
     "output_type": "stream",
     "text": [
      "0.0%\n"
     ]
    }
   ],
   "source": [
    "missing_values = df.review_title.isna().mean().round(4) * 100\n",
    "\n",
    "print('%s%%' % missing_values)"
   ]
  },
  {
   "cell_type": "markdown",
   "metadata": {},
   "source": [
    "## Feature Selection\n",
    "\n",
    "IDs don't directly add value for the anomaly detection model, so we will drop the ID features below!"
   ]
  },
  {
   "cell_type": "code",
   "execution_count": 11,
   "metadata": {},
   "outputs": [
    {
     "data": {
      "text/plain": [
       "0    3f129b02-ea76-0323-bd59-235d97a4f83f\n",
       "1    d7f3b9aa-e8b3-626d-683b-374e201c8315\n",
       "2    e58a523d-0155-a366-f107-7ac6817ac3b7\n",
       "3    aaa9bb87-4f99-bb89-65cb-3b400ebb45c0\n",
       "4    48c71b34-d7fe-5e90-51dd-239e153fb0ae\n",
       "Name: review_hash_id, dtype: object"
      ]
     },
     "execution_count": 11,
     "metadata": {},
     "output_type": "execute_result"
    }
   ],
   "source": [
    "df['review_hash_id'].head()"
   ]
  },
  {
   "cell_type": "code",
   "execution_count": 12,
   "metadata": {},
   "outputs": [
    {
     "data": {
      "text/plain": [
       "0    B0142CI6FC\n",
       "1    B014DFNNRY\n",
       "2    B014DFNNRY\n",
       "3    B014DFKELC\n",
       "4    B014G37I7E\n",
       "Name: retailer_product_code, dtype: object"
      ]
     },
     "execution_count": 12,
     "metadata": {},
     "output_type": "execute_result"
    }
   ],
   "source": [
    "df['retailer_product_code'].head()"
   ]
  },
  {
   "cell_type": "code",
   "execution_count": 13,
   "metadata": {},
   "outputs": [
    {
     "data": {
      "text/plain": [
       "0    8.718110e+12\n",
       "1    5.000180e+12\n",
       "2    5.000180e+12\n",
       "3    8.712570e+12\n",
       "4    8.717160e+12\n",
       "Name: upc, dtype: float64"
      ]
     },
     "execution_count": 13,
     "metadata": {},
     "output_type": "execute_result"
    }
   ],
   "source": [
    "df['upc'].head()"
   ]
  },
  {
   "cell_type": "code",
   "execution_count": 14,
   "metadata": {},
   "outputs": [],
   "source": [
    "df.drop(['review_hash_id', 'retailer_product_code', 'upc'], inplace=True, axis=1)"
   ]
  },
  {
   "cell_type": "markdown",
   "metadata": {},
   "source": [
    "A correlation matrix is a common tool used to compare the coefficients of correlation between different features (or attributes) in a dataset. It allows us to visualize how much (or how little) correlation exists between different variables. This is an important step in pre-processing machine learning pipelines. Since the correlation matrix allows us to identify variables that have high degrees of correlation, they allow us to reduce the amount of features we may have in a dataset. This is often referred to as dimensionality reduction and can be used to improve the runtime and effectiveness of our models."
   ]
  },
  {
   "cell_type": "code",
   "execution_count": 15,
   "metadata": {},
   "outputs": [
    {
     "name": "stdout",
     "output_type": "stream",
     "text": [
      "<class 'pandas.core.frame.DataFrame'>\n",
      "RangeIndex: 2501 entries, 0 to 2500\n",
      "Data columns (total 20 columns):\n",
      " #   Column                Non-Null Count  Dtype \n",
      "---  ------                --------------  ----- \n",
      " 0   report_date           2501 non-null   object\n",
      " 1   online_store          2501 non-null   object\n",
      " 2   brand                 2501 non-null   object\n",
      " 3   category              2501 non-null   object\n",
      " 4   sub_category          2501 non-null   object\n",
      " 5   product_description   2501 non-null   object\n",
      " 6   review_date           2501 non-null   object\n",
      " 7   review_rating         2501 non-null   int64 \n",
      " 8   review_title          2501 non-null   object\n",
      " 9   review_text           2501 non-null   object\n",
      " 10  is_competitor         2501 non-null   int64 \n",
      " 11  manufacturer          2501 non-null   object\n",
      " 12  market                2501 non-null   object\n",
      " 13  review_type           2501 non-null   object\n",
      " 14  parent_review         2501 non-null   object\n",
      " 15  dimension1            2501 non-null   object\n",
      " 16  dimension2            2501 non-null   object\n",
      " 17  dimension8            2501 non-null   object\n",
      " 18  verified_purchase     2501 non-null   bool  \n",
      " 19  helpful_review_count  2501 non-null   int64 \n",
      "dtypes: bool(1), int64(3), object(16)\n",
      "memory usage: 373.8+ KB\n"
     ]
    }
   ],
   "source": [
    "df.info()"
   ]
  },
  {
   "cell_type": "markdown",
   "metadata": {},
   "source": [
    "Convert the object features to category data type. This is to visualize the categorical correlation!"
   ]
  },
  {
   "cell_type": "code",
   "execution_count": 16,
   "metadata": {},
   "outputs": [],
   "source": [
    "df['online_store'] = df['online_store'].astype('category')\n",
    "df['brand'] = df['brand'].astype('category')\n",
    "df['category'] = df['category'].astype('category')\n",
    "df['sub_category'] = df['sub_category'].astype('category')\n",
    "df['product_description'] = df['product_description'].astype('category')\n",
    "df['review_title'] = df['review_title'].astype('category')\n",
    "df['review_text'] = df['review_text'].astype('category')\n",
    "df['manufacturer'] = df['manufacturer'].astype('category')\n",
    "df['market'] = df['market'].astype('category')\n",
    "df['review_type'] = df['review_type'].astype('category')\n",
    "df['parent_review'] = df['parent_review'].astype('category')\n",
    "df['dimension1'] = df['dimension1'].astype('category')\n",
    "df['dimension2'] = df['dimension2'].astype('category')\n",
    "df['dimension8'] = df['dimension8'].astype('category')"
   ]
  },
  {
   "cell_type": "code",
   "execution_count": 17,
   "metadata": {},
   "outputs": [
    {
     "name": "stdout",
     "output_type": "stream",
     "text": [
      "<class 'pandas.core.frame.DataFrame'>\n",
      "RangeIndex: 2501 entries, 0 to 2500\n",
      "Data columns (total 20 columns):\n",
      " #   Column                Non-Null Count  Dtype   \n",
      "---  ------                --------------  -----   \n",
      " 0   report_date           2501 non-null   object  \n",
      " 1   online_store          2501 non-null   category\n",
      " 2   brand                 2501 non-null   category\n",
      " 3   category              2501 non-null   category\n",
      " 4   sub_category          2501 non-null   category\n",
      " 5   product_description   2501 non-null   category\n",
      " 6   review_date           2501 non-null   object  \n",
      " 7   review_rating         2501 non-null   int64   \n",
      " 8   review_title          2501 non-null   category\n",
      " 9   review_text           2501 non-null   category\n",
      " 10  is_competitor         2501 non-null   int64   \n",
      " 11  manufacturer          2501 non-null   category\n",
      " 12  market                2501 non-null   category\n",
      " 13  review_type           2501 non-null   category\n",
      " 14  parent_review         2501 non-null   category\n",
      " 15  dimension1            2501 non-null   category\n",
      " 16  dimension2            2501 non-null   category\n",
      " 17  dimension8            2501 non-null   category\n",
      " 18  verified_purchase     2501 non-null   bool    \n",
      " 19  helpful_review_count  2501 non-null   int64   \n",
      "dtypes: bool(1), category(14), int64(3), object(2)\n",
      "memory usage: 279.5+ KB\n"
     ]
    }
   ],
   "source": [
    "df.info()"
   ]
  },
  {
   "cell_type": "code",
   "execution_count": 18,
   "metadata": {},
   "outputs": [
    {
     "name": "stdout",
     "output_type": "stream",
     "text": [
      "Index(['online_store', 'brand', 'category', 'sub_category',\n",
      "       'product_description', 'review_title', 'review_text', 'manufacturer',\n",
      "       'market', 'review_type', 'parent_review', 'dimension1', 'dimension2',\n",
      "       'dimension8'],\n",
      "      dtype='object')\n"
     ]
    }
   ],
   "source": [
    "objList = df.select_dtypes(include = \"category\").columns\n",
    "print (objList)"
   ]
  },
  {
   "cell_type": "code",
   "execution_count": 19,
   "metadata": {},
   "outputs": [],
   "source": [
    "categ = ['category', 'sub_category', 'dimension1', 'dimension2', 'dimension8']"
   ]
  },
  {
   "cell_type": "code",
   "execution_count": 20,
   "metadata": {},
   "outputs": [
    {
     "data": {
      "text/html": [
       "<div>\n",
       "<style scoped>\n",
       "    .dataframe tbody tr th:only-of-type {\n",
       "        vertical-align: middle;\n",
       "    }\n",
       "\n",
       "    .dataframe tbody tr th {\n",
       "        vertical-align: top;\n",
       "    }\n",
       "\n",
       "    .dataframe thead th {\n",
       "        text-align: right;\n",
       "    }\n",
       "</style>\n",
       "<table border=\"1\" class=\"dataframe\">\n",
       "  <thead>\n",
       "    <tr style=\"text-align: right;\">\n",
       "      <th></th>\n",
       "      <th>category</th>\n",
       "      <th>sub_category</th>\n",
       "      <th>dimension1</th>\n",
       "      <th>dimension2</th>\n",
       "      <th>dimension8</th>\n",
       "    </tr>\n",
       "  </thead>\n",
       "  <tbody>\n",
       "    <tr>\n",
       "      <th>0</th>\n",
       "      <td>Personal Care</td>\n",
       "      <td>Deos</td>\n",
       "      <td>Deos</td>\n",
       "      <td>Male Anti-Perspirant Deodorant</td>\n",
       "      <td>Core of the Core</td>\n",
       "    </tr>\n",
       "    <tr>\n",
       "      <th>1</th>\n",
       "      <td>Foods</td>\n",
       "      <td>Savoury</td>\n",
       "      <td>Savoury</td>\n",
       "      <td>COTC Yeast Extract</td>\n",
       "      <td>Core of the Core</td>\n",
       "    </tr>\n",
       "    <tr>\n",
       "      <th>2</th>\n",
       "      <td>Foods</td>\n",
       "      <td>Savoury</td>\n",
       "      <td>Savoury</td>\n",
       "      <td>COTC Yeast Extract</td>\n",
       "      <td>Core of the Core</td>\n",
       "    </tr>\n",
       "    <tr>\n",
       "      <th>3</th>\n",
       "      <td>Foods</td>\n",
       "      <td>Savoury</td>\n",
       "      <td>Savoury</td>\n",
       "      <td>Beef Stock/Pots/Cubes/Extract/Liquid/Concentrated</td>\n",
       "      <td>Core of the Core</td>\n",
       "    </tr>\n",
       "    <tr>\n",
       "      <th>4</th>\n",
       "      <td>Homecare</td>\n",
       "      <td>HHC</td>\n",
       "      <td>HHC</td>\n",
       "      <td>Bathroom Mousse</td>\n",
       "      <td>Core of the Core</td>\n",
       "    </tr>\n",
       "  </tbody>\n",
       "</table>\n",
       "</div>"
      ],
      "text/plain": [
       "        category sub_category dimension1  \\\n",
       "0  Personal Care         Deos       Deos   \n",
       "1          Foods      Savoury    Savoury   \n",
       "2          Foods      Savoury    Savoury   \n",
       "3          Foods      Savoury    Savoury   \n",
       "4       Homecare          HHC        HHC   \n",
       "\n",
       "                                          dimension2        dimension8  \n",
       "0                     Male Anti-Perspirant Deodorant  Core of the Core  \n",
       "1                                 COTC Yeast Extract  Core of the Core  \n",
       "2                                 COTC Yeast Extract  Core of the Core  \n",
       "3  Beef Stock/Pots/Cubes/Extract/Liquid/Concentrated  Core of the Core  \n",
       "4                                    Bathroom Mousse  Core of the Core  "
      ]
     },
     "execution_count": 20,
     "metadata": {},
     "output_type": "execute_result"
    }
   ],
   "source": [
    "df[categ].head()"
   ]
  },
  {
   "cell_type": "code",
   "execution_count": 21,
   "metadata": {},
   "outputs": [
    {
     "data": {
      "text/plain": [
       "array(['Core of the Core'], dtype=object)"
      ]
     },
     "execution_count": 21,
     "metadata": {},
     "output_type": "execute_result"
    }
   ],
   "source": [
    "np.unique(df['dimension8'])"
   ]
  },
  {
   "cell_type": "code",
   "execution_count": 22,
   "metadata": {},
   "outputs": [
    {
     "data": {
      "image/png": "[encoded data removed]",
      "text/plain": [
       "<Figure size 1080x720 with 2 Axes>"
      ]
     },
     "metadata": {
      "needs_background": "light"
     },
     "output_type": "display_data"
    }
   ],
   "source": [
    "associations_fun(df[categ], nominal_columns=categ, figsize=(15, 10))"
   ]
  },
  {
   "cell_type": "markdown",
   "metadata": {},
   "source": [
    "We can see from the above correlation matrix that the 'dimension1' feature is a copy of the 'sub_category' feature. Moreover, the 'dimension2' feature is highly correlated with 'dimension1', 'category' and 'sub_category' features. The feature 'dimension8' contains the same value. Also, 'sub_category' is highly correlated with 'category'. In this case we are going to remove these features sub_category, dimension1, dimension2, and dimension8.  "
   ]
  },
  {
   "cell_type": "code",
   "execution_count": 23,
   "metadata": {},
   "outputs": [],
   "source": [
    "df.drop(['sub_category', 'dimension1', 'dimension2', 'dimension8'], inplace=True, axis=1)"
   ]
  },
  {
   "cell_type": "markdown",
   "metadata": {},
   "source": [
    "The 'is_competitor' has all values 0, We will also remove this feature."
   ]
  },
  {
   "cell_type": "code",
   "execution_count": 24,
   "metadata": {},
   "outputs": [
    {
     "data": {
      "text/plain": [
       "array([0])"
      ]
     },
     "execution_count": 24,
     "metadata": {},
     "output_type": "execute_result"
    }
   ],
   "source": [
    "np.unique(df['is_competitor'])"
   ]
  },
  {
   "cell_type": "code",
   "execution_count": 25,
   "metadata": {},
   "outputs": [],
   "source": [
    "df.drop(['is_competitor'], inplace=True, axis=1)"
   ]
  },
  {
   "cell_type": "markdown",
   "metadata": {},
   "source": [
    "The 'market' has all values 'UK', We will also remove this feature."
   ]
  },
  {
   "cell_type": "code",
   "execution_count": 26,
   "metadata": {},
   "outputs": [
    {
     "data": {
      "text/plain": [
       "array(['UK'], dtype=object)"
      ]
     },
     "execution_count": 26,
     "metadata": {},
     "output_type": "execute_result"
    }
   ],
   "source": [
    "np.unique(df['market'])"
   ]
  },
  {
   "cell_type": "code",
   "execution_count": 27,
   "metadata": {},
   "outputs": [],
   "source": [
    "df.drop(['market'], inplace=True, axis=1)"
   ]
  },
  {
   "cell_type": "markdown",
   "metadata": {},
   "source": [
    "The 'manufacturer' has all values 'Unilever Global', We will also remove this feature."
   ]
  },
  {
   "cell_type": "code",
   "execution_count": 28,
   "metadata": {},
   "outputs": [
    {
     "data": {
      "text/plain": [
       "array(['Unilever Global'], dtype=object)"
      ]
     },
     "execution_count": 28,
     "metadata": {},
     "output_type": "execute_result"
    }
   ],
   "source": [
    "np.unique(df['manufacturer'])"
   ]
  },
  {
   "cell_type": "code",
   "execution_count": 29,
   "metadata": {},
   "outputs": [],
   "source": [
    "df.drop(['manufacturer'], inplace=True, axis=1)"
   ]
  },
  {
   "cell_type": "markdown",
   "metadata": {},
   "source": [
    "From the figure below it is not unexpected that personal care like skin and hair have a lot of fraudulent reviews. It is expected given all the available products on the market."
   ]
  },
  {
   "cell_type": "code",
   "execution_count": 30,
   "metadata": {},
   "outputs": [
    {
     "data": {
      "text/plain": [
       "Text(0.5, 1.0, 'Count of Product category')"
      ]
     },
     "execution_count": 30,
     "metadata": {},
     "output_type": "execute_result"
    },
    {
     "data": {
      "image/png": "[encoded data removed]",
      "text/plain": [
       "<Figure size 1176.88x360 with 1 Axes>"
      ]
     },
     "metadata": {
      "needs_background": "light"
     },
     "output_type": "display_data"
    }
   ],
   "source": [
    "sns.catplot(y ='category',kind=\"count\", hue = \"verified_purchase\", data=df,  height=5, aspect=3)\n",
    "plt.ylabel(\"category\")\n",
    "plt.xlabel(\"count of reviews\")\n",
    "plt.title(\"Count of Product category\")"
   ]
  },
  {
   "cell_type": "markdown",
   "metadata": {},
   "source": [
    "From the above table we can see from the event on the third row that the 'review_title' feature gives more context to the 'review_text'. We decided to merge the two columns to be processed together."
   ]
  },
  {
   "cell_type": "code",
   "execution_count": 31,
   "metadata": {},
   "outputs": [],
   "source": [
    "df['title_review_comments'] = df.apply(lambda x: ' '.join([x['review_title'], x['review_text']]), axis=1)"
   ]
  },
  {
   "cell_type": "code",
   "execution_count": 32,
   "metadata": {},
   "outputs": [
    {
     "data": {
      "text/html": [
       "<div>\n",
       "<style scoped>\n",
       "    .dataframe tbody tr th:only-of-type {\n",
       "        vertical-align: middle;\n",
       "    }\n",
       "\n",
       "    .dataframe tbody tr th {\n",
       "        vertical-align: top;\n",
       "    }\n",
       "\n",
       "    .dataframe thead th {\n",
       "        text-align: right;\n",
       "    }\n",
       "</style>\n",
       "<table border=\"1\" class=\"dataframe\">\n",
       "  <thead>\n",
       "    <tr style=\"text-align: right;\">\n",
       "      <th></th>\n",
       "      <th>report_date</th>\n",
       "      <th>online_store</th>\n",
       "      <th>brand</th>\n",
       "      <th>category</th>\n",
       "      <th>product_description</th>\n",
       "      <th>review_date</th>\n",
       "      <th>review_rating</th>\n",
       "      <th>review_title</th>\n",
       "      <th>review_text</th>\n",
       "      <th>review_type</th>\n",
       "      <th>parent_review</th>\n",
       "      <th>verified_purchase</th>\n",
       "      <th>helpful_review_count</th>\n",
       "      <th>title_review_comments</th>\n",
       "    </tr>\n",
       "  </thead>\n",
       "  <tbody>\n",
       "    <tr>\n",
       "      <th>0</th>\n",
       "      <td>1/2/2019</td>\n",
       "      <td>FRESHAMAZON</td>\n",
       "      <td>Dove Men+Care</td>\n",
       "      <td>Personal Care</td>\n",
       "      <td>Dove Men+Care Extra Fresh Anti-perspirant Deod...</td>\n",
       "      <td>1/1/2019</td>\n",
       "      <td>5</td>\n",
       "      <td>Dove Mens + Deodorant</td>\n",
       "      <td>As you get older, you know what you like and w...</td>\n",
       "      <td>Organic</td>\n",
       "      <td>Child</td>\n",
       "      <td>True</td>\n",
       "      <td>0</td>\n",
       "      <td>Dove Mens + Deodorant As you get older, you k...</td>\n",
       "    </tr>\n",
       "    <tr>\n",
       "      <th>1</th>\n",
       "      <td>1/3/2019</td>\n",
       "      <td>FRESHAMAZON</td>\n",
       "      <td>Marmite</td>\n",
       "      <td>Foods</td>\n",
       "      <td>Marmite  Spread Yeast Extract 500g</td>\n",
       "      <td>1/2/2019</td>\n",
       "      <td>5</td>\n",
       "      <td>Great for a marmite lover!</td>\n",
       "      <td>Three gigantic marmite jars that will last pro...</td>\n",
       "      <td>Organic</td>\n",
       "      <td>Child</td>\n",
       "      <td>True</td>\n",
       "      <td>0</td>\n",
       "      <td>Great for a marmite lover! Three gigantic marm...</td>\n",
       "    </tr>\n",
       "    <tr>\n",
       "      <th>2</th>\n",
       "      <td>1/3/2019</td>\n",
       "      <td>FRESHAMAZON</td>\n",
       "      <td>Marmite</td>\n",
       "      <td>Foods</td>\n",
       "      <td>Marmite  Spread Yeast Extract 500g</td>\n",
       "      <td>1/2/2019</td>\n",
       "      <td>4</td>\n",
       "      <td>Vitamin B12.</td>\n",
       "      <td>Excellent</td>\n",
       "      <td>Organic</td>\n",
       "      <td>Child</td>\n",
       "      <td>True</td>\n",
       "      <td>0</td>\n",
       "      <td>Vitamin B12. Excellent</td>\n",
       "    </tr>\n",
       "    <tr>\n",
       "      <th>3</th>\n",
       "      <td>1/3/2019</td>\n",
       "      <td>FRESHAMAZON</td>\n",
       "      <td>Knorr</td>\n",
       "      <td>Foods</td>\n",
       "      <td>Knorr  Beef Stock Pot 8 x 28g</td>\n",
       "      <td>1/2/2019</td>\n",
       "      <td>5</td>\n",
       "      <td>A Very Handy Flavour Top - Up to Keep In The C...</td>\n",
       "      <td>A great flavour top - up for slow cooking.</td>\n",
       "      <td>Organic</td>\n",
       "      <td>Parent</td>\n",
       "      <td>True</td>\n",
       "      <td>0</td>\n",
       "      <td>A Very Handy Flavour Top - Up to Keep In The C...</td>\n",
       "    </tr>\n",
       "    <tr>\n",
       "      <th>4</th>\n",
       "      <td>1/3/2019</td>\n",
       "      <td>FRESHAMAZON</td>\n",
       "      <td>Cif</td>\n",
       "      <td>Homecare</td>\n",
       "      <td>Cif Citrus Bathroom Mousse 500ml</td>\n",
       "      <td>1/2/2019</td>\n",
       "      <td>5</td>\n",
       "      <td>Very handy</td>\n",
       "      <td>Does what is says it does</td>\n",
       "      <td>Organic</td>\n",
       "      <td>Parent</td>\n",
       "      <td>False</td>\n",
       "      <td>0</td>\n",
       "      <td>Very handy Does what is says it does</td>\n",
       "    </tr>\n",
       "  </tbody>\n",
       "</table>\n",
       "</div>"
      ],
      "text/plain": [
       "  report_date online_store          brand       category  \\\n",
       "0    1/2/2019  FRESHAMAZON  Dove Men+Care  Personal Care   \n",
       "1    1/3/2019  FRESHAMAZON        Marmite          Foods   \n",
       "2    1/3/2019  FRESHAMAZON        Marmite          Foods   \n",
       "3    1/3/2019  FRESHAMAZON          Knorr          Foods   \n",
       "4    1/3/2019  FRESHAMAZON            Cif       Homecare   \n",
       "\n",
       "                                 product_description review_date  \\\n",
       "0  Dove Men+Care Extra Fresh Anti-perspirant Deod...    1/1/2019   \n",
       "1                 Marmite  Spread Yeast Extract 500g    1/2/2019   \n",
       "2                 Marmite  Spread Yeast Extract 500g    1/2/2019   \n",
       "3                      Knorr  Beef Stock Pot 8 x 28g    1/2/2019   \n",
       "4                   Cif Citrus Bathroom Mousse 500ml    1/2/2019   \n",
       "\n",
       "   review_rating                                       review_title  \\\n",
       "0              5                             Dove Mens + Deodorant   \n",
       "1              5                         Great for a marmite lover!   \n",
       "2              4                                       Vitamin B12.   \n",
       "3              5  A Very Handy Flavour Top - Up to Keep In The C...   \n",
       "4              5                                         Very handy   \n",
       "\n",
       "                                         review_text review_type  \\\n",
       "0  As you get older, you know what you like and w...     Organic   \n",
       "1  Three gigantic marmite jars that will last pro...     Organic   \n",
       "2                                          Excellent     Organic   \n",
       "3         A great flavour top - up for slow cooking.     Organic   \n",
       "4                          Does what is says it does     Organic   \n",
       "\n",
       "  parent_review  verified_purchase  helpful_review_count  \\\n",
       "0         Child               True                     0   \n",
       "1         Child               True                     0   \n",
       "2         Child               True                     0   \n",
       "3        Parent               True                     0   \n",
       "4        Parent              False                     0   \n",
       "\n",
       "                               title_review_comments  \n",
       "0  Dove Mens + Deodorant As you get older, you k...  \n",
       "1  Great for a marmite lover! Three gigantic marm...  \n",
       "2                             Vitamin B12. Excellent  \n",
       "3  A Very Handy Flavour Top - Up to Keep In The C...  \n",
       "4               Very handy Does what is says it does  "
      ]
     },
     "execution_count": 32,
     "metadata": {},
     "output_type": "execute_result"
    }
   ],
   "source": [
    "df.head()"
   ]
  },
  {
   "cell_type": "code",
   "execution_count": 33,
   "metadata": {},
   "outputs": [
    {
     "name": "stdout",
     "output_type": "stream",
     "text": [
      "<class 'pandas.core.frame.DataFrame'>\n",
      "RangeIndex: 2501 entries, 0 to 2500\n",
      "Data columns (total 14 columns):\n",
      " #   Column                 Non-Null Count  Dtype   \n",
      "---  ------                 --------------  -----   \n",
      " 0   report_date            2501 non-null   object  \n",
      " 1   online_store           2501 non-null   category\n",
      " 2   brand                  2501 non-null   category\n",
      " 3   category               2501 non-null   category\n",
      " 4   product_description    2501 non-null   category\n",
      " 5   review_date            2501 non-null   object  \n",
      " 6   review_rating          2501 non-null   int64   \n",
      " 7   review_title           2501 non-null   category\n",
      " 8   review_text            2501 non-null   category\n",
      " 9   review_type            2501 non-null   category\n",
      " 10  parent_review          2501 non-null   category\n",
      " 11  verified_purchase      2501 non-null   bool    \n",
      " 12  helpful_review_count   2501 non-null   int64   \n",
      " 13  title_review_comments  2501 non-null   object  \n",
      "dtypes: bool(1), category(8), int64(2), object(3)\n",
      "memory usage: 258.3+ KB\n"
     ]
    }
   ],
   "source": [
    "df.info()"
   ]
  },
  {
   "cell_type": "markdown",
   "metadata": {},
   "source": [
    "The code below maps the boolean values to numerical values used as the target variable. We can also notice that there are slightly higher verified purchases than not, however the two classes are pretty balanced."
   ]
  },
  {
   "cell_type": "code",
   "execution_count": 34,
   "metadata": {},
   "outputs": [],
   "source": [
    "df['verified_purchase'].replace({True: 0, False: 1}, inplace=True)"
   ]
  },
  {
   "cell_type": "code",
   "execution_count": 35,
   "metadata": {},
   "outputs": [
    {
     "data": {
      "text/html": [
       "<div>\n",
       "<style scoped>\n",
       "    .dataframe tbody tr th:only-of-type {\n",
       "        vertical-align: middle;\n",
       "    }\n",
       "\n",
       "    .dataframe tbody tr th {\n",
       "        vertical-align: top;\n",
       "    }\n",
       "\n",
       "    .dataframe thead th {\n",
       "        text-align: right;\n",
       "    }\n",
       "</style>\n",
       "<table border=\"1\" class=\"dataframe\">\n",
       "  <thead>\n",
       "    <tr style=\"text-align: right;\">\n",
       "      <th></th>\n",
       "      <th>report_date</th>\n",
       "      <th>online_store</th>\n",
       "      <th>brand</th>\n",
       "      <th>category</th>\n",
       "      <th>product_description</th>\n",
       "      <th>review_date</th>\n",
       "      <th>review_rating</th>\n",
       "      <th>review_title</th>\n",
       "      <th>review_text</th>\n",
       "      <th>review_type</th>\n",
       "      <th>parent_review</th>\n",
       "      <th>verified_purchase</th>\n",
       "      <th>helpful_review_count</th>\n",
       "      <th>title_review_comments</th>\n",
       "    </tr>\n",
       "  </thead>\n",
       "  <tbody>\n",
       "    <tr>\n",
       "      <th>0</th>\n",
       "      <td>1/2/2019</td>\n",
       "      <td>FRESHAMAZON</td>\n",
       "      <td>Dove Men+Care</td>\n",
       "      <td>Personal Care</td>\n",
       "      <td>Dove Men+Care Extra Fresh Anti-perspirant Deod...</td>\n",
       "      <td>1/1/2019</td>\n",
       "      <td>5</td>\n",
       "      <td>Dove Mens + Deodorant</td>\n",
       "      <td>As you get older, you know what you like and w...</td>\n",
       "      <td>Organic</td>\n",
       "      <td>Child</td>\n",
       "      <td>0</td>\n",
       "      <td>0</td>\n",
       "      <td>Dove Mens + Deodorant As you get older, you k...</td>\n",
       "    </tr>\n",
       "    <tr>\n",
       "      <th>1</th>\n",
       "      <td>1/3/2019</td>\n",
       "      <td>FRESHAMAZON</td>\n",
       "      <td>Marmite</td>\n",
       "      <td>Foods</td>\n",
       "      <td>Marmite  Spread Yeast Extract 500g</td>\n",
       "      <td>1/2/2019</td>\n",
       "      <td>5</td>\n",
       "      <td>Great for a marmite lover!</td>\n",
       "      <td>Three gigantic marmite jars that will last pro...</td>\n",
       "      <td>Organic</td>\n",
       "      <td>Child</td>\n",
       "      <td>0</td>\n",
       "      <td>0</td>\n",
       "      <td>Great for a marmite lover! Three gigantic marm...</td>\n",
       "    </tr>\n",
       "    <tr>\n",
       "      <th>2</th>\n",
       "      <td>1/3/2019</td>\n",
       "      <td>FRESHAMAZON</td>\n",
       "      <td>Marmite</td>\n",
       "      <td>Foods</td>\n",
       "      <td>Marmite  Spread Yeast Extract 500g</td>\n",
       "      <td>1/2/2019</td>\n",
       "      <td>4</td>\n",
       "      <td>Vitamin B12.</td>\n",
       "      <td>Excellent</td>\n",
       "      <td>Organic</td>\n",
       "      <td>Child</td>\n",
       "      <td>0</td>\n",
       "      <td>0</td>\n",
       "      <td>Vitamin B12. Excellent</td>\n",
       "    </tr>\n",
       "    <tr>\n",
       "      <th>3</th>\n",
       "      <td>1/3/2019</td>\n",
       "      <td>FRESHAMAZON</td>\n",
       "      <td>Knorr</td>\n",
       "      <td>Foods</td>\n",
       "      <td>Knorr  Beef Stock Pot 8 x 28g</td>\n",
       "      <td>1/2/2019</td>\n",
       "      <td>5</td>\n",
       "      <td>A Very Handy Flavour Top - Up to Keep In The C...</td>\n",
       "      <td>A great flavour top - up for slow cooking.</td>\n",
       "      <td>Organic</td>\n",
       "      <td>Parent</td>\n",
       "      <td>0</td>\n",
       "      <td>0</td>\n",
       "      <td>A Very Handy Flavour Top - Up to Keep In The C...</td>\n",
       "    </tr>\n",
       "    <tr>\n",
       "      <th>4</th>\n",
       "      <td>1/3/2019</td>\n",
       "      <td>FRESHAMAZON</td>\n",
       "      <td>Cif</td>\n",
       "      <td>Homecare</td>\n",
       "      <td>Cif Citrus Bathroom Mousse 500ml</td>\n",
       "      <td>1/2/2019</td>\n",
       "      <td>5</td>\n",
       "      <td>Very handy</td>\n",
       "      <td>Does what is says it does</td>\n",
       "      <td>Organic</td>\n",
       "      <td>Parent</td>\n",
       "      <td>1</td>\n",
       "      <td>0</td>\n",
       "      <td>Very handy Does what is says it does</td>\n",
       "    </tr>\n",
       "  </tbody>\n",
       "</table>\n",
       "</div>"
      ],
      "text/plain": [
       "  report_date online_store          brand       category  \\\n",
       "0    1/2/2019  FRESHAMAZON  Dove Men+Care  Personal Care   \n",
       "1    1/3/2019  FRESHAMAZON        Marmite          Foods   \n",
       "2    1/3/2019  FRESHAMAZON        Marmite          Foods   \n",
       "3    1/3/2019  FRESHAMAZON          Knorr          Foods   \n",
       "4    1/3/2019  FRESHAMAZON            Cif       Homecare   \n",
       "\n",
       "                                 product_description review_date  \\\n",
       "0  Dove Men+Care Extra Fresh Anti-perspirant Deod...    1/1/2019   \n",
       "1                 Marmite  Spread Yeast Extract 500g    1/2/2019   \n",
       "2                 Marmite  Spread Yeast Extract 500g    1/2/2019   \n",
       "3                      Knorr  Beef Stock Pot 8 x 28g    1/2/2019   \n",
       "4                   Cif Citrus Bathroom Mousse 500ml    1/2/2019   \n",
       "\n",
       "   review_rating                                       review_title  \\\n",
       "0              5                             Dove Mens + Deodorant   \n",
       "1              5                         Great for a marmite lover!   \n",
       "2              4                                       Vitamin B12.   \n",
       "3              5  A Very Handy Flavour Top - Up to Keep In The C...   \n",
       "4              5                                         Very handy   \n",
       "\n",
       "                                         review_text review_type  \\\n",
       "0  As you get older, you know what you like and w...     Organic   \n",
       "1  Three gigantic marmite jars that will last pro...     Organic   \n",
       "2                                          Excellent     Organic   \n",
       "3         A great flavour top - up for slow cooking.     Organic   \n",
       "4                          Does what is says it does     Organic   \n",
       "\n",
       "  parent_review  verified_purchase  helpful_review_count  \\\n",
       "0         Child                  0                     0   \n",
       "1         Child                  0                     0   \n",
       "2         Child                  0                     0   \n",
       "3        Parent                  0                     0   \n",
       "4        Parent                  1                     0   \n",
       "\n",
       "                               title_review_comments  \n",
       "0  Dove Mens + Deodorant As you get older, you k...  \n",
       "1  Great for a marmite lover! Three gigantic marm...  \n",
       "2                             Vitamin B12. Excellent  \n",
       "3  A Very Handy Flavour Top - Up to Keep In The C...  \n",
       "4               Very handy Does what is says it does  "
      ]
     },
     "execution_count": 35,
     "metadata": {},
     "output_type": "execute_result"
    }
   ],
   "source": [
    "df.head()"
   ]
  },
  {
   "cell_type": "code",
   "execution_count": 36,
   "metadata": {},
   "outputs": [
    {
     "data": {
      "image/png": "[encoded data removed]",
      "text/plain": [
       "<Figure size 288x288 with 1 Axes>"
      ]
     },
     "metadata": {},
     "output_type": "display_data"
    }
   ],
   "source": [
    "#PIE CHART ON VERFIED PURCHASES - check one\n",
    "colors = ['#79BAEC','#FED8B1']\n",
    "plt.figure(figsize=(4,4))\n",
    "label = df['verified_purchase'].value_counts()\n",
    "plt.pie(label.values,colors = colors, labels=label.index, autopct= '%1.1f%%', startangle=90)\n",
    "plt.title('True and False Reviews Count', fontsize=15)\n",
    "plt.show()"
   ]
  },
  {
   "cell_type": "markdown",
   "metadata": {},
   "source": [
    "For the baseline we only use the customers reviews without and additional features and features engineering."
   ]
  },
  {
   "cell_type": "code",
   "execution_count": 37,
   "metadata": {},
   "outputs": [],
   "source": [
    "df = df[['title_review_comments', 'verified_purchase']]"
   ]
  },
  {
   "cell_type": "code",
   "execution_count": 38,
   "metadata": {},
   "outputs": [
    {
     "data": {
      "text/html": [
       "<div>\n",
       "<style scoped>\n",
       "    .dataframe tbody tr th:only-of-type {\n",
       "        vertical-align: middle;\n",
       "    }\n",
       "\n",
       "    .dataframe tbody tr th {\n",
       "        vertical-align: top;\n",
       "    }\n",
       "\n",
       "    .dataframe thead th {\n",
       "        text-align: right;\n",
       "    }\n",
       "</style>\n",
       "<table border=\"1\" class=\"dataframe\">\n",
       "  <thead>\n",
       "    <tr style=\"text-align: right;\">\n",
       "      <th></th>\n",
       "      <th>title_review_comments</th>\n",
       "      <th>verified_purchase</th>\n",
       "    </tr>\n",
       "  </thead>\n",
       "  <tbody>\n",
       "    <tr>\n",
       "      <th>0</th>\n",
       "      <td>Dove Mens + Deodorant As you get older, you k...</td>\n",
       "      <td>0</td>\n",
       "    </tr>\n",
       "    <tr>\n",
       "      <th>1</th>\n",
       "      <td>Great for a marmite lover! Three gigantic marm...</td>\n",
       "      <td>0</td>\n",
       "    </tr>\n",
       "    <tr>\n",
       "      <th>2</th>\n",
       "      <td>Vitamin B12. Excellent</td>\n",
       "      <td>0</td>\n",
       "    </tr>\n",
       "    <tr>\n",
       "      <th>3</th>\n",
       "      <td>A Very Handy Flavour Top - Up to Keep In The C...</td>\n",
       "      <td>0</td>\n",
       "    </tr>\n",
       "    <tr>\n",
       "      <th>4</th>\n",
       "      <td>Very handy Does what is says it does</td>\n",
       "      <td>1</td>\n",
       "    </tr>\n",
       "  </tbody>\n",
       "</table>\n",
       "</div>"
      ],
      "text/plain": [
       "                               title_review_comments  verified_purchase\n",
       "0  Dove Mens + Deodorant As you get older, you k...                  0\n",
       "1  Great for a marmite lover! Three gigantic marm...                  0\n",
       "2                             Vitamin B12. Excellent                  0\n",
       "3  A Very Handy Flavour Top - Up to Keep In The C...                  0\n",
       "4               Very handy Does what is says it does                  1"
      ]
     },
     "execution_count": 38,
     "metadata": {},
     "output_type": "execute_result"
    }
   ],
   "source": [
    "df.head()"
   ]
  },
  {
   "cell_type": "markdown",
   "metadata": {},
   "source": [
    "We save the file and in the next section we will use NLP to process both 'product_description' and 'title_review_comments' features.   "
   ]
  },
  {
   "cell_type": "code",
   "execution_count": 39,
   "metadata": {},
   "outputs": [],
   "source": [
    "# Saving updated dataframe.\n",
    "\n",
    "df.to_csv('../data/processed/updated_data_baseline.csv')"
   ]
  },
  {
   "cell_type": "markdown",
   "metadata": {},
   "source": [
    "# Utilizing Natural Language Processing"
   ]
  },
  {
   "cell_type": "code",
   "execution_count": 40,
   "metadata": {},
   "outputs": [],
   "source": [
    "#due to special charas should be encoded as latin 1\n",
    "df = pd.read_csv('../data/processed/updated_data_baseline.csv',encoding='latin1') \n",
    "df.drop(['Unnamed: 0'], axis=1, inplace=True)"
   ]
  },
  {
   "cell_type": "code",
   "execution_count": 41,
   "metadata": {},
   "outputs": [
    {
     "data": {
      "text/html": [
       "<div>\n",
       "<style scoped>\n",
       "    .dataframe tbody tr th:only-of-type {\n",
       "        vertical-align: middle;\n",
       "    }\n",
       "\n",
       "    .dataframe tbody tr th {\n",
       "        vertical-align: top;\n",
       "    }\n",
       "\n",
       "    .dataframe thead th {\n",
       "        text-align: right;\n",
       "    }\n",
       "</style>\n",
       "<table border=\"1\" class=\"dataframe\">\n",
       "  <thead>\n",
       "    <tr style=\"text-align: right;\">\n",
       "      <th></th>\n",
       "      <th>title_review_comments</th>\n",
       "      <th>verified_purchase</th>\n",
       "    </tr>\n",
       "  </thead>\n",
       "  <tbody>\n",
       "    <tr>\n",
       "      <th>0</th>\n",
       "      <td>Dove MenÂs + Deodorant As you get older, you ...</td>\n",
       "      <td>0</td>\n",
       "    </tr>\n",
       "    <tr>\n",
       "      <th>1</th>\n",
       "      <td>Great for a marmite lover! Three gigantic marm...</td>\n",
       "      <td>0</td>\n",
       "    </tr>\n",
       "    <tr>\n",
       "      <th>2</th>\n",
       "      <td>Vitamin B12. Excellent</td>\n",
       "      <td>0</td>\n",
       "    </tr>\n",
       "    <tr>\n",
       "      <th>3</th>\n",
       "      <td>A Very Handy Flavour Top - Up to Keep In The C...</td>\n",
       "      <td>0</td>\n",
       "    </tr>\n",
       "    <tr>\n",
       "      <th>4</th>\n",
       "      <td>Very handy Does what is says it does</td>\n",
       "      <td>1</td>\n",
       "    </tr>\n",
       "  </tbody>\n",
       "</table>\n",
       "</div>"
      ],
      "text/plain": [
       "                               title_review_comments  verified_purchase\n",
       "0  Dove MenÂs + Deodorant As you get older, you ...                  0\n",
       "1  Great for a marmite lover! Three gigantic marm...                  0\n",
       "2                             Vitamin B12. Excellent                  0\n",
       "3  A Very Handy Flavour Top - Up to Keep In The C...                  0\n",
       "4               Very handy Does what is says it does                  1"
      ]
     },
     "execution_count": 41,
     "metadata": {},
     "output_type": "execute_result"
    }
   ],
   "source": [
    "df.head()"
   ]
  },
  {
   "cell_type": "markdown",
   "metadata": {},
   "source": [
    "Check total duplicate occurrences and remove them. "
   ]
  },
  {
   "cell_type": "code",
   "execution_count": 42,
   "metadata": {},
   "outputs": [
    {
     "name": "stdout",
     "output_type": "stream",
     "text": [
      "Number of duplicates in dataset:  814\n"
     ]
    }
   ],
   "source": [
    "dup = df.duplicated().sum()\n",
    "print('Number of duplicates in dataset: ', dup)"
   ]
  },
  {
   "cell_type": "code",
   "execution_count": 43,
   "metadata": {},
   "outputs": [
    {
     "name": "stdout",
     "output_type": "stream",
     "text": [
      "<class 'pandas.core.frame.DataFrame'>\n",
      "RangeIndex: 1687 entries, 0 to 1686\n",
      "Data columns (total 2 columns):\n",
      " #   Column                 Non-Null Count  Dtype \n",
      "---  ------                 --------------  ----- \n",
      " 0   title_review_comments  1687 non-null   object\n",
      " 1   verified_purchase      1687 non-null   int64 \n",
      "dtypes: int64(1), object(1)\n",
      "memory usage: 26.5+ KB\n"
     ]
    }
   ],
   "source": [
    "df = df.drop_duplicates().reset_index(drop=True)\n",
    "df.info()"
   ]
  },
  {
   "cell_type": "markdown",
   "metadata": {},
   "source": [
    "Next we apply a fleet of functions to clean text features and remove common and rare words. We remove:\n",
    "\n",
    "* Repeated characters\n",
    "* Separate digit\n",
    "* Slang\n",
    "* Stem words\n",
    "* Single characters\n",
    "* Punctuations\n",
    "* Extra space\n",
    "* Replace digits with characters\n",
    "* Emoticons\n",
    "* URL\n",
    "* Alphanumerics\n",
    "* Stop words"
   ]
  },
  {
   "cell_type": "code",
   "execution_count": 44,
   "metadata": {},
   "outputs": [],
   "source": [
    "def clean_feature(_df, feature_name):\n",
    "    _df[feature_name] = _df[feature_name].apply(lambda i: appos_look_up(i))\n",
    "    _df[feature_name] = _df[feature_name].apply(lambda i: remove_repeated_characters(i))\n",
    "    _df[feature_name] = _df[feature_name].apply(lambda i: separate_digit_text(i))\n",
    "    _df[feature_name] = _df[feature_name].apply(lambda i: slang_look_up(i))\n",
    "    _df[feature_name] = _df[feature_name].apply(lambda i: stem_text(i))\n",
    "    _df[feature_name] = _df[feature_name].apply(lambda i: remove_single_char_word(i))\n",
    "    _df[feature_name] = _df[feature_name].apply(lambda i: remove_punctuations(i))\n",
    "    _df[feature_name] = _df[feature_name].apply(lambda i: remove_extra_space(i))\n",
    "    _df[feature_name] = _df[feature_name].apply(lambda i: replace_digits_with_char(i))\n",
    "    _df[feature_name] = _df[feature_name].apply(lambda i: emoticons_look_up(i)[0])\n",
    "    _df[feature_name] = _df[feature_name].apply(lambda i: remove_url(i))\n",
    "    _df[feature_name] = _df[feature_name].apply(lambda i: remove_alphanumerics(i))\n",
    "    _df[feature_name] = _df[feature_name].apply(lambda i: remove_stop_words(i))\n",
    "    \n",
    "    _df[feature_name] = _df[feature_name].apply(lambda i: ''.join(TextBlob(i).correct()))\n",
    "    \n",
    "    # removing common and rare words\n",
    "    common = pd.Series(' '.join(_df[feature_name]).split()).value_counts()[:3]\n",
    "    common = list(common.index)\n",
    "    _df[feature_name] = _df[feature_name].apply(lambda i: \" \".join(i for i in i.split() if i not in common))\n",
    "    \n",
    "    rare = pd.Series(' '.join(_df[feature_name]).split()).value_counts()[-3:]\n",
    "    rare = list(rare.index)\n",
    "    _df[feature_name] = _df[feature_name].apply(lambda i: \" \".join(i for i in i.split() if i not in rare))\n",
    "    \n",
    "    \n",
    "    return _df"
   ]
  },
  {
   "cell_type": "code",
   "execution_count": 45,
   "metadata": {},
   "outputs": [],
   "source": [
    "df = clean_feature(df, 'title_review_comments')"
   ]
  },
  {
   "cell_type": "code",
   "execution_count": 46,
   "metadata": {},
   "outputs": [
    {
     "data": {
      "text/plain": [
       "0    men door get older know like suitable like gi...\n",
       "1    great admit lover three giant admit jar last p...\n",
       "2                                    vitamin bed expel\n",
       "3    hand flavour top keep cupboard great flavour t...\n",
       "4                                             hand say\n",
       "Name: title_review_comments, dtype: object"
      ]
     },
     "execution_count": 46,
     "metadata": {},
     "output_type": "execute_result"
    }
   ],
   "source": [
    "df['title_review_comments'].head()"
   ]
  },
  {
   "cell_type": "code",
   "execution_count": 48,
   "metadata": {},
   "outputs": [
    {
     "data": {
      "image/png": "[encoded data removed]",
      "text/plain": [
       "<Figure size 360x360 with 1 Axes>"
      ]
     },
     "metadata": {
      "needs_background": "light"
     },
     "output_type": "display_data"
    }
   ],
   "source": [
    "#WordCloud\n",
    "\n",
    "words = '' \n",
    "for i in df[\"title_review_comments\"]: \n",
    "    tokens = i.split()   \n",
    "    words += \" \".join(tokens)+\" \"\n",
    "\n",
    "    \n",
    "word_cloud = WordCloud(width=700, height=700, background_color='white', min_font_size=10).generate(words) \n",
    "plt.figure(figsize = (5, 5)) \n",
    "plt.imshow(word_cloud) \n",
    "plt.axis(\"off\") \n",
    "plt.tight_layout(pad = 0) \n",
    "  \n",
    "plt.show()"
   ]
  },
  {
   "cell_type": "code",
   "execution_count": 49,
   "metadata": {},
   "outputs": [
    {
     "data": {
      "text/plain": [
       "0    men door get older know like suitable like gi...\n",
       "1    great admit lover three giant admit jar last p...\n",
       "2                                    vitamin bed expel\n",
       "3    hand flavour top keep cupboard great flavour t...\n",
       "4                                             hand say\n",
       "Name: title_review_comments, dtype: object"
      ]
     },
     "execution_count": 49,
     "metadata": {},
     "output_type": "execute_result"
    }
   ],
   "source": [
    "df['title_review_comments'].head()"
   ]
  },
  {
   "cell_type": "code",
   "execution_count": 50,
   "metadata": {},
   "outputs": [],
   "source": [
    "# Saving cleaned dataframe.\n",
    "\n",
    "df.to_csv('../data/processed/cleaned_review_and_title_baseline.csv')"
   ]
  },
  {
   "cell_type": "markdown",
   "metadata": {},
   "source": [
    "# Training ML baseline model"
   ]
  },
  {
   "cell_type": "code",
   "execution_count": 51,
   "metadata": {},
   "outputs": [],
   "source": [
    "# Due to special charas should be encoded as latin 1\n",
    "\n",
    "df = pd.read_csv(\"../data/processed/cleaned_review_and_title_baseline.csv\",encoding=\"latin1\")\n",
    "df.drop(['Unnamed: 0'], axis=1, inplace=True)"
   ]
  },
  {
   "cell_type": "markdown",
   "metadata": {},
   "source": [
    "Remove null values from the reviews "
   ]
  },
  {
   "cell_type": "code",
   "execution_count": 52,
   "metadata": {},
   "outputs": [
    {
     "name": "stdout",
     "output_type": "stream",
     "text": [
      "Total reviews before removing null values:  1687\n",
      "Total attributes:  2\n"
     ]
    }
   ],
   "source": [
    "n_reviews, n_attributes = df.shape\n",
    "print('Total reviews before removing null values: ',n_reviews)\n",
    "print('Total attributes: ',n_attributes)"
   ]
  },
  {
   "cell_type": "markdown",
   "metadata": {},
   "source": [
    "Drop all the null rows."
   ]
  },
  {
   "cell_type": "code",
   "execution_count": 53,
   "metadata": {},
   "outputs": [],
   "source": [
    "df = df.dropna(how='any',axis=0) "
   ]
  },
  {
   "cell_type": "code",
   "execution_count": 54,
   "metadata": {},
   "outputs": [
    {
     "name": "stdout",
     "output_type": "stream",
     "text": [
      "Total reviews after removing null values:  1685\n",
      "Total attributes:  2\n"
     ]
    }
   ],
   "source": [
    "n_reviews, n_attributes = df.shape\n",
    "print('Total reviews after removing null values: ',n_reviews)\n",
    "print('Total attributes: ',n_attributes)"
   ]
  },
  {
   "cell_type": "markdown",
   "metadata": {},
   "source": [
    "## Train model with only the reviews"
   ]
  },
  {
   "cell_type": "code",
   "execution_count": 55,
   "metadata": {},
   "outputs": [],
   "source": [
    "# Assign the text variables and the target variable\n",
    "\n",
    "# Input variables\n",
    "X_review = df['title_review_comments'] \n",
    "\n",
    "# The target variable\n",
    "y = df['verified_purchase']"
   ]
  },
  {
   "cell_type": "markdown",
   "metadata": {},
   "source": [
    "Text features are considered unstructured data. Tokenization of text documents can be indirectly used for representing documents. We often need to use algorithms like term frequency–inverse document frequency (TF-IDF) to account for token occurrences (meaning we break the sentence into words or tokens) in a document and turn an unstructured text into a numerical vector that is suitable for machine learning. There are many other techniques that can be used to convert text to numerical sequences. We will use tensorflow’s library to perform both the [Tokenization](https://www.tensorflow.org/api_docs/python/tf/keras/preprocessing/text/Tokenizer) and to convert to numerical vectors, known as embeddings."
   ]
  },
  {
   "cell_type": "code",
   "execution_count": 56,
   "metadata": {},
   "outputs": [],
   "source": [
    "#Define the Tokeniser\n",
    "tokeniser1 = Tokenizer(num_words=10000, lower=True)\n",
    "\n",
    "#Create the corpus by finding the most common \n",
    "tokeniser1.fit_on_texts(X_review)"
   ]
  },
  {
   "cell_type": "code",
   "execution_count": 57,
   "metadata": {},
   "outputs": [],
   "source": [
    "#Tokenise our columns\n",
    "review_tokens = tokeniser1.texts_to_sequences(list(X_review))"
   ]
  },
  {
   "cell_type": "code",
   "execution_count": 58,
   "metadata": {},
   "outputs": [],
   "source": [
    "#Pad these sequences to make them the same length\n",
    "review_tokens = pad_sequences(review_tokens, truncating='post', padding='post', maxlen=50)"
   ]
  },
  {
   "cell_type": "markdown",
   "metadata": {},
   "source": [
    "Each row from below matrix is a numerical vector that represent one sentence from each customer review."
   ]
  },
  {
   "cell_type": "code",
   "execution_count": 59,
   "metadata": {},
   "outputs": [
    {
     "data": {
      "text/plain": [
       "array([[1154,  150,   15, ...,    0,    0,    0],\n",
       "       [   2,  206,  966, ...,    0,    0,    0],\n",
       "       [1158,  330,   61, ...,    0,    0,    0],\n",
       "       ...,\n",
       "       [   8,  375,   18, ...,    0,    0,    0],\n",
       "       [  13,   21,    2, ...,    0,    0,    0],\n",
       "       [ 115,   14,  126, ...,    0,    0,    0]], dtype=int32)"
      ]
     },
     "execution_count": 59,
     "metadata": {},
     "output_type": "execute_result"
    }
   ],
   "source": [
    "review_tokens"
   ]
  },
  {
   "cell_type": "markdown",
   "metadata": {},
   "source": [
    "Remove all the text features that we just converted to numerical vectores."
   ]
  },
  {
   "cell_type": "code",
   "execution_count": 60,
   "metadata": {},
   "outputs": [],
   "source": [
    "df.drop(columns=['title_review_comments', 'verified_purchase'], inplace=True)"
   ]
  },
  {
   "cell_type": "markdown",
   "metadata": {},
   "source": [
    "Next, we split the dataset into training and testing where we use 20% for the testing and 80% for training."
   ]
  },
  {
   "cell_type": "code",
   "execution_count": 61,
   "metadata": {},
   "outputs": [],
   "source": [
    "X_train, X_test, y_train, y_test = train_test_split(review_tokens, y, test_size=0.2, random_state=1)"
   ]
  },
  {
   "cell_type": "markdown",
   "metadata": {},
   "source": [
    "We build a random forest classification model with default parameters."
   ]
  },
  {
   "cell_type": "code",
   "execution_count": 72,
   "metadata": {},
   "outputs": [],
   "source": [
    "rfc = RandomForestClassifier(random_state=1)"
   ]
  },
  {
   "cell_type": "code",
   "execution_count": 73,
   "metadata": {},
   "outputs": [
    {
     "data": {
      "text/plain": [
       "RandomForestClassifier(random_state=1)"
      ]
     },
     "execution_count": 73,
     "metadata": {},
     "output_type": "execute_result"
    }
   ],
   "source": [
    "rfc.fit(X_train, y_train)"
   ]
  },
  {
   "cell_type": "code",
   "execution_count": 83,
   "metadata": {},
   "outputs": [],
   "source": [
    "#whether the reviews written has been verified or not by Amazon's system\n",
    "\n",
    "#Define the indexing for each possible label in a dictionary\n",
    "class_to_index = {\"notVerified-(1)\":1, \"verified-(0)\":0}\n",
    "\n",
    "#Creates a reverse dictionary\n",
    "index_to_class = dict((v,k) for k, v in class_to_index.items())\n",
    "\n",
    "#Creates lambda functions, applying the appropriate dictionary\n",
    "names_to_ids = lambda n: np.array([class_to_index.get(x) for x in n])\n",
    "ids_to_names = lambda n: np.array([index_to_class.get(x) for x in n])"
   ]
  },
  {
   "cell_type": "code",
   "execution_count": 84,
   "metadata": {},
   "outputs": [],
   "source": [
    "#Generate predictions\n",
    "y_pred = np.argmax(rfc.predict_proba(X_test), axis=1)\n",
    "\n",
    "#Assign labels to predictions and test data\n",
    "y_pred_labels = ids_to_names(y_pred)\n",
    "y_test_labels = ids_to_names(y_test)"
   ]
  },
  {
   "cell_type": "markdown",
   "metadata": {},
   "source": [
    "The confusion matrix is a technique that summarizes the performance of a classification algorithm. The concept of a confusion matrix is that the model is confused when it makes predictions. The number of correct and incorrect predictions are summarized with count values and broken down by each class. This is the key to the confusion matrix.\n",
    "\n",
    "Well, it is a performance measurement for machine learning classification problem where output can be two or more classes. It is a table with 4 different combinations of predicted and actual values."
   ]
  },
  {
   "cell_type": "code",
   "execution_count": 85,
   "metadata": {
    "scrolled": false
   },
   "outputs": [
    {
     "data": {
      "text/plain": [
       "<sklearn.metrics._plot.confusion_matrix.ConfusionMatrixDisplay at 0x7f6bff5bcac0>"
      ]
     },
     "execution_count": 85,
     "metadata": {},
     "output_type": "execute_result"
    },
    {
     "data": {
      "image/png": "[encoded data removed]",
      "text/plain": [
       "<Figure size 432x288 with 2 Axes>"
      ]
     },
     "metadata": {
      "needs_background": "light"
     },
     "output_type": "display_data"
    }
   ],
   "source": [
    "y_unique = list(set(y_test_labels))\n",
    "cm = confusion_matrix(y_test_labels, y_pred_labels, labels = y_unique, normalize='true')\n",
    "\n",
    "disp = ConfusionMatrixDisplay(confusion_matrix=cm, display_labels=y_unique)\n",
    "disp.plot()"
   ]
  },
  {
   "cell_type": "markdown",
   "metadata": {},
   "source": [
    "Confusion matrices are extremely useful for measuring recall, precision, specificity, accuracy, and, most importantly, AUC-ROC curves\n",
    "Let’s understand the above confusion matrix (more on this from [here](https://en.wikipedia.org/wiki/Confusion_matrix)).\n",
    "\n",
    "* notVerified = positive (that is fraud because it was not verified)\n",
    "* verified = negative (that is no fraud, because it is verified)\n",
    "\n",
    "\n",
    "\n",
    "* True Positive (TP):\n",
    " * Green box in the top left hand quadrant with 77\n",
    " * Interpretation: You predicted positive and it’s true.\n",
    " * You predicted that the review is not verified and it actually is not verified. \n",
    " \n",
    "* True Negative (TN):\n",
    " * Yellow box in the lower right hand quadrant with 74\n",
    " * Interpretation: You predicted negative and it’s true.\n",
    " * You predicted that review is verified and the review is actually is. That is in yellow box with 99%.\n",
    "\n",
    "* False Positive (FP): (Type 1 Error)\n",
    " * Purple box in the bottom left hand corner with 26%\n",
    " * Interpretation: You predicted positive and it’s false.\n",
    " * You predicted that a review is not verified, but it actually is.\n",
    "\n",
    "* False Negative (FN): (Type 2 Error)\n",
    " * Purple box in the top right hand corner with 23\n",
    " * Interpretation: You predicted negative and it’s false.\n",
    " * You predicted that the review is verified but it actually is not verified."
   ]
  },
  {
   "cell_type": "markdown",
   "metadata": {},
   "source": [
    "By just using customer reviews we get above 70% from both TP and TN and low type 1 FP and 2 FN error. "
   ]
  },
  {
   "cell_type": "code",
   "execution_count": 83,
   "metadata": {},
   "outputs": [
    {
     "data": {
      "text/plain": [
       "0.8400324377688456"
      ]
     },
     "execution_count": 83,
     "metadata": {},
     "output_type": "execute_result"
    }
   ],
   "source": [
    "roc_auc_score(y_test, rfc.predict_proba(X_test)[:, 1])"
   ]
  },
  {
   "cell_type": "markdown",
   "metadata": {},
   "source": [
    "# Save model"
   ]
  },
  {
   "cell_type": "code",
   "execution_count": 75,
   "metadata": {},
   "outputs": [
    {
     "data": {
      "text/plain": [
       "['../models/finalized_model_baseline.sav']"
      ]
     },
     "execution_count": 75,
     "metadata": {},
     "output_type": "execute_result"
    }
   ],
   "source": [
    "filename = '../models/finalized_model_baseline.sav'\n",
    "joblib.dump(rfc, filename)"
   ]
  },
  {
   "cell_type": "markdown",
   "metadata": {},
   "source": [
    "# Summary\n",
    "\n",
    "Now that we have a saved model. you can deploy it into your infrastructure. This model can help you to detect and remove frauds in customer reviews to help protect your business. However, the same process can be easily adopted to other text based fraud problems, like claims processing. If you find this information helpful and would like to learn more about ML models, feel free to [reach out to the phData ML team](https://www.phdata.io/contact-us/). We’re here to help!"
   ]
  },
  {
   "cell_type": "code",
   "execution_count": null,
   "metadata": {},
   "outputs": [],
   "source": []
  }
 ],
 "metadata": {
  "kernelspec": {
   "display_name": "Python 3",
   "language": "python",
   "name": "python3"
  },
  "language_info": {
   "codemirror_mode": {
    "name": "ipython",
    "version": 3
   },
   "file_extension": ".py",
   "mimetype": "text/x-python",
   "name": "python",
   "nbconvert_exporter": "python",
   "pygments_lexer": "ipython3",
   "version": "3.8.8"
  }
 },
 "nbformat": 4,
 "nbformat_minor": 2
}
